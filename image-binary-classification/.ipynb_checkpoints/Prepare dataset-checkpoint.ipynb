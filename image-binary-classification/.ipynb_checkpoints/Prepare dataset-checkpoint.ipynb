{
 "cells": [
  {
   "cell_type": "markdown",
   "metadata": {},
   "source": [
    "# Prepare Images\n",
    "\n",
    "This notebook will help you to prepare training and test sets from provided images."
   ]
  },
  {
   "cell_type": "markdown",
   "metadata": {},
   "source": [
    "## 1. Copy images\n",
    "\n",
    "To be able to access images from notebook, copy them to any directory inside your notebook root directory.\n",
    "Set `images_dir` value to path of directory with images.\n"
   ]
  },
  {
   "cell_type": "code",
   "execution_count": 1,
   "metadata": {},
   "outputs": [],
   "source": [
    "images_dir = './images'"
   ]
  },
  {
   "cell_type": "markdown",
   "metadata": {},
   "source": [
    "## 2. Label images\n",
    "\n",
    "Run below code to create CSV file called `labels.csv` with list of all images from `images_dir` directory.\n",
    "Next, open CSV file and put appropriate value in `is_guitar` column. `1` if image contains guitar. `0` otherwise."
   ]
  },
  {
   "cell_type": "code",
   "execution_count": 9,
   "metadata": {},
   "outputs": [
    {
     "name": "stdout",
     "output_type": "stream",
     "text": [
      "labels.csv exists. Skipping\n"
     ]
    }
   ],
   "source": [
    "import os\n",
    "import pandas as pd\n",
    "\n",
    "if not os.path.exists('labels.csv'):\n",
    "    df = pd.DataFrame(columns=['file_name', 'is_guitar'])\n",
    "\n",
    "    for filename in os.listdir(images_dir):\n",
    "        df = df.append({'file_name': filename, 'is_guitar': 0}, ignore_index=True)\n",
    "\n",
    "    df.to_csv('labels.csv')\n",
    "    print('Labels saved')\n",
    "else:\n",
    "    print(\"labels.csv exists. Skipping\")"
   ]
  },
  {
   "cell_type": "markdown",
   "metadata": {},
   "source": [
    "## 3. Load and resize images\n",
    "Open labels.csv file. Read all mentioned images into memory and resize them into 100x100px."
   ]
  },
  {
   "cell_type": "code",
   "execution_count": 25,
   "metadata": {},
   "outputs": [],
   "source": [
    "import numpy as np\n",
    "import matplotlib.pyplot as plt\n",
    "import skimage.transform\n",
    "\n",
    "data = pd.read_csv('./labels.csv')\n",
    "images = np.empty((0, 100, 100, 3))\n",
    "labels = np.empty((0, 1))\n",
    "\n",
    "for filename in data.file_name:\n",
    "    path = '%s/%s' % (images_dir, filename)\n",
    "    image = np.array(plt.imread(path))\n",
    "    image = skimage.transform.resize(image, (100, 100), mode='reflect')\n",
    "    images = np.append([image], images, axis=0)\n",
    "    \n",
    "for is_guitar in data.is_guitar:\n",
    "    labels = np.append([is_guitar], labels)"
   ]
  },
  {
   "cell_type": "markdown",
   "metadata": {},
   "source": [
    "## 4. Create training and test sets\n",
    "Now, split images and labels into training and test set. Training set will contain 70% of images and test set - remaining 30%.\n"
   ]
  },
  {
   "cell_type": "code",
   "execution_count": 26,
   "metadata": {},
   "outputs": [
    {
     "name": "stdout",
     "output_type": "stream",
     "text": [
      "(110, 100, 100, 3)\n",
      "(48, 100, 100, 3)\n",
      "(110,)\n",
      "(48,)\n"
     ]
    }
   ],
   "source": [
    "images_count = images.shape[0]\n",
    "training_examples_count = int(0.7 * images_count)\n",
    "test_examples_count = images_count - training_examples_count\n",
    "\n",
    "(training_set_x, test_set_x) = np.split(images, [training_examples_count])\n",
    "(training_set_y, test_set_y) = np.split(labels, [training_examples_count])"
   ]
  },
  {
   "cell_type": "markdown",
   "metadata": {},
   "source": [
    "## 5. Save dataset\n",
    "Save training and test set into `dataset.h5` file."
   ]
  },
  {
   "cell_type": "code",
   "execution_count": 27,
   "metadata": {},
   "outputs": [],
   "source": [
    "import h5py\n",
    "\n",
    "f = h5py.File('dataset.h5', 'w')\n",
    "\n",
    "f.create_dataset('training_set_x', data=training_set_x)\n",
    "f.create_dataset('training_set_y', data=training_set_y)\n",
    "f.create_dataset('test_set_x', data=test_set_x)\n",
    "f.create_dataset('test_set_y', data=test_set_y)\n",
    "f.close()"
   ]
  }
 ],
 "metadata": {
  "kernelspec": {
   "display_name": "Python 3",
   "language": "python",
   "name": "python3"
  },
  "language_info": {
   "codemirror_mode": {
    "name": "ipython",
    "version": 3
   },
   "file_extension": ".py",
   "mimetype": "text/x-python",
   "name": "python",
   "nbconvert_exporter": "python",
   "pygments_lexer": "ipython3",
   "version": "3.6.5"
  }
 },
 "nbformat": 4,
 "nbformat_minor": 2
}
