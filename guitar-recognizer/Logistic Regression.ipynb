{
 "cells": [
  {
   "cell_type": "markdown",
   "metadata": {},
   "source": [
    "## Recognizing guitars with Logistic Regression\n",
    "This notebook contains implementation of logistic regression model for binary classification of images. Model distinguishes betweet 2 classes of images: 0 - images without guitar and 1 - images containing guitar."
   ]
  },
  {
   "cell_type": "markdown",
   "metadata": {},
   "source": [
    "## 1. Load dataset\n",
    "Load dataset from `dataset.h5` file. It should be prepared within separate notebook: [Prepare Dataset](Prepare dataset.ipynb)"
   ]
  },
  {
   "cell_type": "code",
   "execution_count": 16,
   "metadata": {},
   "outputs": [],
   "source": [
    "import h5py\n",
    "import numpy as np\n",
    "\n",
    "f = h5py.File('dataset.h5', 'r')\n",
    "training_set_x_input = f['training_set_x'][()]\n",
    "training_set_y_input = f['training_set_y'][()]\n",
    "test_set_x_input = f['test_set_x'][()]\n",
    "test_set_y_input = f['test_set_y'][()]\n",
    "f.close()"
   ]
  },
  {
   "cell_type": "markdown",
   "metadata": {},
   "source": [
    "## 2. Reshape training and test sets\n",
    "Reshape training set into: `n x m_train` matrix and test set into: `n x m_test` where: `m_train` and `m_test` is number of training and testing examples and `n` is number of features."
   ]
  },
  {
   "cell_type": "code",
   "execution_count": 35,
   "metadata": {},
   "outputs": [
    {
     "name": "stdout",
     "output_type": "stream",
     "text": [
      "Training set features shape (X_train): (30000, 110)\n",
      "Training set outputs shape (y_train): (110, 1)\n",
      "Test set features shape (X_test): (30000, 48)\n",
      "Test set outputs shape (y_test): (48, 1)\n"
     ]
    }
   ],
   "source": [
    "n = training_set_x_input.shape[1] * training_set_x_input.shape[2] * training_set_x_input.shape[3]\n",
    "m_train = training_set_x_input.shape[0]\n",
    "m_test = test_set_x_input.shape[0]\n",
    "\n",
    "X_train = training_set_x_input.reshape(m_train, n).T\n",
    "y_train = training_set_y.reshape(m_train, 1)\n",
    "X_test = test_set_x_input.reshape(m_test, n).T\n",
    "y_test = test_set_y_input.reshape(m_test, 1)\n",
    "\n",
    "print('Training set features shape (X_train):', X_train.shape)\n",
    "print('Training set outputs shape (y_train):', y_train.shape)\n",
    "print('Test set features shape (X_test):', X_test.shape)\n",
    "print('Test set outputs shape (y_test):', y_test.shape)\n"
   ]
  },
  {
   "cell_type": "markdown",
   "metadata": {},
   "source": [
    "## 3. Predicting\n",
    "\n",
    "To train logistic regression model we'll need following functions:\n",
    "\n",
    "**Given**:\n",
    "- $n$ - number of features\n",
    "- $m$ - number of training examples\n",
    "- $X_{n \\times m}$ - input matrix\n",
    "\n",
    "**Parameters to train**:\n",
    "- $W_{n \\times 1}$ - weights matrix\n",
    "- $b$ - bias \n",
    "\n",
    "**Prediction**\n",
    "To receive matrix $\\hat{Y}$ with predictions for all training examples we need to compute:\n",
    "\n",
    "$Z=W^{T}X + b$\n",
    "\n",
    "$\\hat{Y}=\\sigma(z)$\n",
    "\n",
    "Where $\\sigma(z) = \\frac{1}{1 + e^{-z}}$"
   ]
  },
  {
   "cell_type": "markdown",
   "metadata": {},
   "source": [
    "## 4. Calculate cost function\n",
    "\n",
    "The cost computed by summing loss over all training examples:\n",
    "\n",
    "**Given:**\n",
    "- $y^{(i)}$ - real value for example $i$\n",
    "- $a^{(i)}$ - predicted value for example $i$\n",
    "\n",
    "$\\mathcal{L}(a^{(i)}, y^{(i)}) = - y^{(i)}log(a^{(i)}) - (1 - y^{(i)})log(1 - a^{(i)})$\n",
    "\n",
    "$J = \\frac{1}{m} \\sum_{i=1}^m \\mathcal{L}(a^{(i)}, y^{(i)})$\n"
   ]
  },
  {
   "cell_type": "markdown",
   "metadata": {},
   "source": [
    "## 5. Calculate gradient of cost function"
   ]
  }
 ],
 "metadata": {
  "kernelspec": {
   "display_name": "Python 3",
   "language": "python",
   "name": "python3"
  },
  "language_info": {
   "codemirror_mode": {
    "name": "ipython",
    "version": 3
   },
   "file_extension": ".py",
   "mimetype": "text/x-python",
   "name": "python",
   "nbconvert_exporter": "python",
   "pygments_lexer": "ipython3",
   "version": "3.6.5"
  }
 },
 "nbformat": 4,
 "nbformat_minor": 2
}
