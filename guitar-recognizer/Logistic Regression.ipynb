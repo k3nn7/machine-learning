{
 "cells": [
  {
   "cell_type": "markdown",
   "metadata": {},
   "source": [
    "## Recognizing guitars with Logistic Regression\n",
    "This notebook contains implementation of logistic regression model for binary classification of images. Model distinguishes betweet 2 classes of images: 0 - images without guitar and 1 - images containing guitar."
   ]
  },
  {
   "cell_type": "markdown",
   "metadata": {},
   "source": [
    "## 1. Load dataset\n",
    "Load dataset from `dataset.h5` file. It should be prepared within separate notebook: [Prepare Dataset](Prepare dataset.ipynb)"
   ]
  },
  {
   "cell_type": "code",
   "execution_count": 61,
   "metadata": {},
   "outputs": [],
   "source": [
    "import h5py\n",
    "import numpy as np\n",
    "\n",
    "f = h5py.File('dataset.h5', 'r')\n",
    "training_set_x_input = f['training_set_x'][()]\n",
    "training_set_y_input = f['training_set_y'][()]\n",
    "test_set_x_input = f['test_set_x'][()]\n",
    "test_set_y_input = f['test_set_y'][()]\n",
    "f.close()"
   ]
  },
  {
   "cell_type": "markdown",
   "metadata": {},
   "source": [
    "## 2. Reshape training and test sets\n",
    "Reshape training set into: `n x m_train` matrix and test set into: `n x m_test` where: `m_train` and `m_test` is number of training and testing examples and `n` is number of features."
   ]
  },
  {
   "cell_type": "code",
   "execution_count": 62,
   "metadata": {},
   "outputs": [
    {
     "name": "stdout",
     "output_type": "stream",
     "text": [
      "Training set features shape (X_train): (30000, 110)\n",
      "Training set outputs shape (y_train): (110, 1)\n",
      "Test set features shape (X_test): (30000, 48)\n",
      "Test set outputs shape (y_test): (48, 1)\n"
     ]
    }
   ],
   "source": [
    "n = training_set_x_input.shape[1] * training_set_x_input.shape[2] * training_set_x_input.shape[3]\n",
    "m_train = training_set_x_input.shape[0]\n",
    "m_test = test_set_x_input.shape[0]\n",
    "\n",
    "X_train = training_set_x_input.reshape(m_train, n).T\n",
    "y_train = training_set_y_input.reshape(m_train, 1)\n",
    "X_test = test_set_x_input.reshape(m_test, n).T\n",
    "y_test = test_set_y_input.reshape(m_test, 1)\n",
    "\n",
    "print('Training set features shape (X_train):', X_train.shape)\n",
    "print('Training set outputs shape (y_train):', y_train.shape)\n",
    "print('Test set features shape (X_test):', X_test.shape)\n",
    "print('Test set outputs shape (y_test):', y_test.shape)\n"
   ]
  },
  {
   "cell_type": "markdown",
   "metadata": {},
   "source": [
    "## 3. Optimizing\n",
    "\n",
    "To train logistic regression model (i.e. optimize $W$ and $b$ parameters) we'll need following functions:\n",
    "\n",
    "**Given**:\n",
    "- $n$ - number of features\n",
    "- $m$ - number of training examples\n",
    "- $X_{n \\times m}$ - input matrix\n",
    "\n",
    "**Parameters to train**:\n",
    "- $W_{n \\times 1}$ - weights matrix\n",
    "- $b$ - bias \n",
    "\n",
    "**Prediction**\n",
    "To receive matrix $\\hat{Y_{1 \\times m}}$ with predictions for all training examples we need to compute:\n",
    "\n",
    "$Z=W^{T}X + b$\n",
    "\n",
    "$\\hat{Y}=\\sigma(z)$\n",
    "\n",
    "Where $\\sigma(z) = \\frac{1}{1 + e^{-z}}$"
   ]
  },
  {
   "cell_type": "code",
   "execution_count": 63,
   "metadata": {},
   "outputs": [],
   "source": [
    "def sigmoid(z):\n",
    "    return 1 / (1 + np.exp(-z))"
   ]
  },
  {
   "cell_type": "code",
   "execution_count": 64,
   "metadata": {},
   "outputs": [],
   "source": [
    "def predict(W, X, b):\n",
    "    Z = np.dot(W.T, X) + b\n",
    "    return sigmoid(Z)"
   ]
  },
  {
   "cell_type": "markdown",
   "metadata": {},
   "source": [
    "## 4. Calculate cost function\n",
    "\n",
    "The cost computed by summing loss over all training examples:\n",
    "\n",
    "**Given:**\n",
    "- $y^{(i)}$ - real value for example $i$\n",
    "- $a^{(i)}$ - predicted value for example $i$\n",
    "\n",
    "$\\mathcal{L}(a^{(i)}, y^{(i)}) = - y^{(i)}log(a^{(i)}) - (1 - y^{(i)})log(1 - a^{(i)})$\n",
    "\n",
    "$J = \\frac{1}{m} \\sum_{i=1}^m \\mathcal{L}(a^{(i)}, y^{(i)})$\n"
   ]
  },
  {
   "cell_type": "code",
   "execution_count": 65,
   "metadata": {},
   "outputs": [],
   "source": [
    "def cost(Y, A):\n",
    "    m = Y.shape[1]\n",
    "    loss = -Y * np.log(A) - (1 - Y) * np.log(1 - A)\n",
    "    return (1 / m) * np.sum(loss, axis=1)"
   ]
  },
  {
   "cell_type": "markdown",
   "metadata": {},
   "source": [
    "## 5. Calculate gradient of cost function\n",
    "\n",
    "$\\frac{J}{\\partial w} = \\frac{1}{m}X(A - Y)^T$\n",
    "\n",
    "$\\frac{J}{\\partial b} = \\frac{1}{m}\\sum_{i=1}^m (a^{(i)} - y^{(i)})$"
   ]
  },
  {
   "cell_type": "code",
   "execution_count": 66,
   "metadata": {},
   "outputs": [],
   "source": [
    "def dw(X, A, Y):\n",
    "    m = Y.shape[1]\n",
    "    return (1 / m) * np.dot(X, (A - Y).T)"
   ]
  },
  {
   "cell_type": "code",
   "execution_count": 67,
   "metadata": {},
   "outputs": [],
   "source": [
    "def db(A, Y):\n",
    "    m = Y.shape[1]\n",
    "    return (1 / m) * np.sum((A - Y), axis=1)"
   ]
  },
  {
   "cell_type": "markdown",
   "metadata": {},
   "source": [
    "## 6. Optimize\n",
    "\n",
    "Optimize by running gradient descent algorithm."
   ]
  },
  {
   "cell_type": "code",
   "execution_count": 76,
   "metadata": {},
   "outputs": [],
   "source": [
    "def binarize(A):\n",
    "    for i in range(A.shape[1]):\n",
    "        A[0,i] = 1 if A[0,i] > 0.5 else 0\n",
    "        \n",
    "    return A"
   ]
  },
  {
   "cell_type": "code",
   "execution_count": 128,
   "metadata": {},
   "outputs": [
    {
     "name": "stdout",
     "output_type": "stream",
     "text": [
      "Cost:  [ 0.69314718]\n",
      "Cost:  [ 1.07387674]\n",
      "Cost:  [ 0.0556758]\n",
      "Cost:  [ 0.03141048]\n",
      "Cost:  [ 0.02420254]\n",
      "Cost:  [ 0.0201588]\n",
      "Cost:  [ 0.01745345]\n",
      "Cost:  [ 0.01547838]\n",
      "Cost:  [ 0.01395779]\n",
      "Cost:  [ 0.01274371]\n"
     ]
    }
   ],
   "source": [
    "iterations = 1000\n",
    "learning_rate = 0.01\n",
    "\n",
    "W = np.zeros((n, 1))\n",
    "b = 0\n",
    "costs = []\n",
    "\n",
    "for i in range(iterations):\n",
    "    A = predict(W, X_train, b)\n",
    "    J = cost(y_train.T, A)\n",
    "    if i % 100 == 0:\n",
    "        costs.append(J)\n",
    "        print(\"Cost: \", J)\n",
    "    _dw = dw(X_train, A, y_train.T)\n",
    "    _db = db(A, y_train.T)\n",
    "    W = W - learning_rate * _dw\n",
    "    b = b - learning_rate * _db\n",
    "    \n"
   ]
  },
  {
   "cell_type": "code",
   "execution_count": 129,
   "metadata": {},
   "outputs": [
    {
     "data": {
      "image/png": "[encoded data removed]",
      "text/plain": [
       "<Figure size 432x288 with 1 Axes>"
      ]
     },
     "metadata": {},
     "output_type": "display_data"
    }
   ],
   "source": [
    "import matplotlib.pyplot as plt\n",
    "%matplotlib inline\n",
    "\n",
    "costs = np.squeeze(costs)\n",
    "plt.plot(costs)\n",
    "plt.show()"
   ]
  },
  {
   "cell_type": "code",
   "execution_count": 130,
   "metadata": {},
   "outputs": [
    {
     "name": "stdout",
     "output_type": "stream",
     "text": [
      "Train accuracy:  51.3388429752 %\n",
      "Test accuracy:  48.0902777778 %\n"
     ]
    }
   ],
   "source": [
    "# W = np.zeros((n, 1))\n",
    "y_train_predictions = binarize(predict(W, X_train, b))\n",
    "y_test_predictions = binarize(predict(W, X_test, b))\n",
    "\n",
    "print('Train accuracy: ', 100 - np.mean(np.abs(y_train_predictions - y_train)) * 100, '%')\n",
    "print('Test accuracy: ', 100 - np.mean(np.abs(y_test_predictions - y_test)) * 100, '%')"
   ]
  },
  {
   "cell_type": "code",
   "execution_count": 131,
   "metadata": {},
   "outputs": [
    {
     "data": {
      "text/plain": [
       "(1, 48)"
      ]
     },
     "execution_count": 131,
     "metadata": {},
     "output_type": "execute_result"
    }
   ],
   "source": [
    "p = predict(W, X_test, b)\n",
    "p.shape"
   ]
  },
  {
   "cell_type": "code",
   "execution_count": 73,
   "metadata": {},
   "outputs": [
    {
     "data": {
      "text/plain": [
       "array([ 1.])"
      ]
     },
     "execution_count": 73,
     "metadata": {},
     "output_type": "execute_result"
    }
   ],
   "source": [
    "y_test[0]"
   ]
  },
  {
   "cell_type": "code",
   "execution_count": null,
   "metadata": {},
   "outputs": [],
   "source": []
  }
 ],
 "metadata": {
  "kernelspec": {
   "display_name": "Python 3",
   "language": "python",
   "name": "python3"
  },
  "language_info": {
   "codemirror_mode": {
    "name": "ipython",
    "version": 3
   },
   "file_extension": ".py",
   "mimetype": "text/x-python",
   "name": "python",
   "nbconvert_exporter": "python",
   "pygments_lexer": "ipython3",
   "version": "3.6.5"
  }
 },
 "nbformat": 4,
 "nbformat_minor": 2
}
