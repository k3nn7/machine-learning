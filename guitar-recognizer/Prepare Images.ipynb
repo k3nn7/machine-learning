{
 "cells": [
  {
   "cell_type": "markdown",
   "metadata": {},
   "source": [
    "# Prepare Images\n",
    "\n",
    "This notebook will help you to prepare training and test sets from provided images."
   ]
  },
  {
   "cell_type": "markdown",
   "metadata": {},
   "source": [
    "## 1. Copy images\n",
    "\n",
    "To be able to access images from notebook, copy them to any directory inside your notebook root directory.\n",
    "Set `images_dir` value to path of directory with images.\n"
   ]
  },
  {
   "cell_type": "code",
   "execution_count": 37,
   "metadata": {},
   "outputs": [],
   "source": [
    "images_dir = './images'"
   ]
  },
  {
   "cell_type": "markdown",
   "metadata": {},
   "source": [
    "## 2. Label images\n",
    "\n",
    "Run below code to create CSV file called `labels.csv` with list of all images from `images_dir` directory.\n",
    "Next, open CSV file and put appropriate value in `is_guitar` column. `1` if image contains guitar. `0` otherwise."
   ]
  },
  {
   "cell_type": "code",
   "execution_count": 38,
   "metadata": {},
   "outputs": [],
   "source": [
    "import os\n",
    "import pandas as pd\n",
    "\n",
    "df = pd.DataFrame(columns=['file_name', 'is_guitar'])\n",
    "\n",
    "for filename in os.listdir(images_dir):\n",
    "    df = df.append({'file_name': filename, 'is_guitar': 0}, ignore_index=True)\n",
    "\n",
    "df.to_csv('%s/labels.csv' % images_dir)"
   ]
  },
  {
   "cell_type": "markdown",
   "metadata": {},
   "source": [
    "## 3. Load and resize images\n",
    "Open labels.csv file. Read all mentioned images into memory and resize them into 100x100px."
   ]
  },
  {
   "cell_type": "code",
   "execution_count": 50,
   "metadata": {},
   "outputs": [
    {
     "name": "stdout",
     "output_type": "stream",
     "text": [
      "(158, 100, 100, 3)\n",
      "(158,)\n"
     ]
    }
   ],
   "source": [
    "import numpy as np\n",
    "import matplotlib.pyplot as plt\n",
    "import skimage.transform\n",
    "\n",
    "labels = pd.read_csv('./labels.csv')\n",
    "images = np.empty((0, 100, 100, 3))\n",
    "l = np.empty((0, 1))\n",
    "\n",
    "\n",
    "for filename in labels.file_name:\n",
    "    path = '%s/%s' % (images_dir, filename)\n",
    "    image = np.array(plt.imread(path))\n",
    "    image = skimage.transform.resize(image, (100, 100), mode='reflect')\n",
    "    images = np.append([image], images, axis=0)\n",
    "    \n",
    "for is_guitar in labels.is_guitar:\n",
    "    l = np.append([is_guitar], l)\n",
    "    \n",
    "print(images.shape)\n",
    "print(l.shape)\n",
    "\n",
    "\n",
    "# training_set_x = np.empty((0, 100, 100, 3))\n",
    "\n",
    "# filename = './images/accord-acoustic-art-background-classical-culture.jpg'\n",
    "# image = np.array(plt.imread(filename))\n",
    "\n",
    "# image = skimage.transform.resize(image, (100, 100, 3, ), mode='reflect')\n",
    "\n",
    "# print(image.shape)\n",
    "# print(training_set_x.shape)\n",
    "\n",
    "# training_set_x = np.append([image], training_set_x, axis=0)\n",
    "\n",
    "# training_set_x.shape\n",
    "\n",
    "# plt.imshow(training_set_x[0])"
   ]
  },
  {
   "cell_type": "code",
   "execution_count": 58,
   "metadata": {},
   "outputs": [
    {
     "name": "stdout",
     "output_type": "stream",
     "text": [
      "110\n",
      "48\n"
     ]
    }
   ],
   "source": [
    "examples = images.shape[0]\n",
    "training_examples = int(0.7 * examples)\n",
    "test_examples = examples - training_examples\n",
    "\n",
    "print(training_examples)\n",
    "print(test_examples)"
   ]
  },
  {
   "cell_type": "code",
   "execution_count": 8,
   "metadata": {},
   "outputs": [],
   "source": [
    "import h5py\n",
    "\n",
    "f = h5py.File('dataset.h5', 'r+')\n",
    "\n",
    "# training_set_x = f.create_dataset('training_set_x', (100, 100), dtype='f')\n",
    "f.close()"
   ]
  },
  {
   "cell_type": "code",
   "execution_count": null,
   "metadata": {},
   "outputs": [],
   "source": []
  }
 ],
 "metadata": {
  "kernelspec": {
   "display_name": "Python 3",
   "language": "python",
   "name": "python3"
  },
  "language_info": {
   "codemirror_mode": {
    "name": "ipython",
    "version": 3
   },
   "file_extension": ".py",
   "mimetype": "text/x-python",
   "name": "python",
   "nbconvert_exporter": "python",
   "pygments_lexer": "ipython3",
   "version": "3.6.5"
  }
 },
 "nbformat": 4,
 "nbformat_minor": 2
}
